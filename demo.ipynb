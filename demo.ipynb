{
 "cells": [
  {
   "cell_type": "markdown",
   "id": "fd4a7881-12b8-4e6c-8c93-abf55abbfbd6",
   "metadata": {},
   "source": [
    "![EDGE cover image](media/edge_cover.png)\n",
    "# EDGE Demo\n",
    "## 1. Download Custom Music\n",
    "\n",
    "First, download the music you want to process. We provide a list of popular songs from the past 50 years as a default demo."
   ]
  },
  {
   "cell_type": "code",
   "execution_count": 1,
   "id": "bf2f38b9-516e-4bfd-81f6-bbb671ea0751",
   "metadata": {},
   "outputs": [],
   "source": [
    "# Output Directories\n",
    "output_folder = \"custom_music\"\n",
    "motion_folder = \"SMPL-to-FBX/motions\"\n",
    "fbx_folder = \"SMPL-to-FBX/fbx_out\""
   ]
  },
  {
   "cell_type": "code",
   "execution_count": 2,
   "id": "235363be",
   "metadata": {},
   "outputs": [
    {
     "name": "stdout",
     "output_type": "stream",
     "text": [
      "Created directories:\n",
      "custom_music\n",
      "SMPL-to-FBX/motions\n",
      "SMPL-to-FBX/fbx_out\n"
     ]
    }
   ],
   "source": [
    "import os\n",
    "\n",
    "# Create directories\n",
    "os.makedirs(output_folder, exist_ok=True)\n",
    "os.makedirs(motion_folder, exist_ok=True)\n",
    "os.makedirs(fbx_folder, exist_ok=True)\n",
    "\n",
    "print(f\"Created directories:\\n{output_folder}\\n{motion_folder}\\n{fbx_folder}\")"
   ]
  },
  {
   "cell_type": "code",
   "execution_count": 11,
   "id": "39f4753c-1b84-4821-acec-96d6985f3bb4",
   "metadata": {},
   "outputs": [],
   "source": [
    "urllist = [\n",
    "    \"https://www.youtube.com/watch?v=9SmQOZWNyWE\",\n",
    "]\n",
    "# urllist = [\n",
    "#    \"https://www.youtube.com/watch?v=9SmQOZWNyWE\",\n",
    "#    \"https://www.youtube.com/watch?v=kGcrYkHwE80\",\n",
    "#    \"https://www.youtube.com/watch?v=BKX3vFBkkqU\",\n",
    "# ]"
   ]
  },
  {
   "cell_type": "code",
   "execution_count": 4,
   "id": "4b067114-011d-40e5-85f3-84a216cec67a",
   "metadata": {},
   "outputs": [
    {
     "name": "stdout",
     "output_type": "stream",
     "text": [
      "[youtube] Extracting URL: https://www.youtube.com/watch?v=9SmQOZWNyWE\n",
      "[youtube] 9SmQOZWNyWE: Downloading webpage\n",
      "[youtube] 9SmQOZWNyWE: Downloading ios player API JSON\n",
      "[youtube] 9SmQOZWNyWE: Downloading android player API JSON\n",
      "[youtube] 9SmQOZWNyWE: Downloading player 7fe34188\n",
      "\u001b[0;33mWARNING:\u001b[0m [youtube] 9SmQOZWNyWE: nsig extraction failed: You may experience throttling for some formats\n",
      "         n = -lfyvaM6DO6iszAo ; player = https://www.youtube.com/s/player/7fe34188/player_ias.vflset/en_US/base.js\n",
      "\u001b[0;33mWARNING:\u001b[0m [youtube] 9SmQOZWNyWE: nsig extraction failed: You may experience throttling for some formats\n",
      "         n = 0O6-3VQn-G6My0Sw ; player = https://www.youtube.com/s/player/7fe34188/player_ias.vflset/en_US/base.js\n",
      "[youtube] 9SmQOZWNyWE: Downloading m3u8 information\n",
      "[info] 9SmQOZWNyWE: Downloading 1 format(s): 140\n",
      "[download] Destination: custom_music/9SmQOZWNyWE.m4a\n",
      "\u001b[K[download] 100% of    3.45MiB in \u001b[1;37m00:00:00\u001b[0m at \u001b[0;32m3.49MiB/s\u001b[0m0;33m00:00\u001b[0m\n",
      "[FixupM4a] Correcting container of \"custom_music/9SmQOZWNyWE.m4a\"\n",
      "[ExtractAudio] Destination: custom_music/9SmQOZWNyWE.wav\n",
      "Deleting original file custom_music/9SmQOZWNyWE.m4a (pass -k to keep)\n",
      "[youtube] Extracting URL: https://www.youtube.com/watch?v=kGcrYkHwE80\n",
      "[youtube] kGcrYkHwE80: Downloading webpage\n",
      "[youtube] kGcrYkHwE80: Downloading ios player API JSON\n",
      "[youtube] kGcrYkHwE80: Downloading android player API JSON\n",
      "[youtube] kGcrYkHwE80: Downloading player 7fe34188\n",
      "\u001b[0;33mWARNING:\u001b[0m [youtube] kGcrYkHwE80: nsig extraction failed: You may experience throttling for some formats\n",
      "         n = KtZKkYDCFvnW3VGl ; player = https://www.youtube.com/s/player/7fe34188/player_ias.vflset/en_US/base.js\n",
      "\u001b[0;33mWARNING:\u001b[0m [youtube] kGcrYkHwE80: nsig extraction failed: You may experience throttling for some formats\n",
      "         n = 1_kwzwF6wQ3Clm86 ; player = https://www.youtube.com/s/player/7fe34188/player_ias.vflset/en_US/base.js\n",
      "[youtube] kGcrYkHwE80: Downloading m3u8 information\n",
      "[info] kGcrYkHwE80: Downloading 1 format(s): 140\n",
      "[download] Destination: custom_music/kGcrYkHwE80.m4a\n",
      "\u001b[K[download] 100% of    2.59MiB in \u001b[1;37m00:00:00\u001b[0m at \u001b[0;32m2.72MiB/s\u001b[0m0;33m00:00\u001b[0m\n",
      "[FixupM4a] Correcting container of \"custom_music/kGcrYkHwE80.m4a\"\n",
      "[ExtractAudio] Destination: custom_music/kGcrYkHwE80.wav\n",
      "Deleting original file custom_music/kGcrYkHwE80.m4a (pass -k to keep)\n",
      "[youtube] Extracting URL: https://www.youtube.com/watch?v=BKX3vFBkkqU\n",
      "[youtube] BKX3vFBkkqU: Downloading webpage\n",
      "[youtube] BKX3vFBkkqU: Downloading ios player API JSON\n",
      "[youtube] BKX3vFBkkqU: Downloading android player API JSON\n",
      "[youtube] BKX3vFBkkqU: Downloading player 7fe34188\n",
      "\u001b[0;33mWARNING:\u001b[0m [youtube] BKX3vFBkkqU: nsig extraction failed: You may experience throttling for some formats\n",
      "         n = shOdpPPkm5Ke6oyH ; player = https://www.youtube.com/s/player/7fe34188/player_ias.vflset/en_US/base.js\n",
      "\u001b[0;33mWARNING:\u001b[0m [youtube] BKX3vFBkkqU: nsig extraction failed: You may experience throttling for some formats\n",
      "         n = jelkoxuvyJV3Z9Oj ; player = https://www.youtube.com/s/player/7fe34188/player_ias.vflset/en_US/base.js\n",
      "[youtube] BKX3vFBkkqU: Downloading m3u8 information\n",
      "[info] BKX3vFBkkqU: Downloading 1 format(s): 140\n",
      "[download] Destination: custom_music/BKX3vFBkkqU.m4a\n",
      "\u001b[K[download] 100% of    4.48MiB in \u001b[1;37m00:00:01\u001b[0m at \u001b[0;32m2.35MiB/s\u001b[0m0;33m00:00\u001b[0m\n",
      "[FixupM4a] Correcting container of \"custom_music/BKX3vFBkkqU.m4a\"\n",
      "[ExtractAudio] Destination: custom_music/BKX3vFBkkqU.wav\n",
      "Deleting original file custom_music/BKX3vFBkkqU.m4a (pass -k to keep)\n"
     ]
    }
   ],
   "source": [
    "for url in urllist:\n",
    "    !yt-dlp --extract-audio --audio-format wav --audio-quality 0 --output \"{output_folder}/%(id)s.%(ext)s\" \"{url}\""
   ]
  },
  {
   "cell_type": "markdown",
   "id": "53e9b986-a395-4af8-a47b-9d573962b5b1",
   "metadata": {},
   "source": [
    "## 2. Generate Dances\n",
    "After the music is downloaded, run the model on the music to process the music and generate dances. Stick figure videos will be saved to `output_folder` and pickle files of the motions will be saved to `motion_folder`"
   ]
  },
  {
   "cell_type": "code",
   "execution_count": 5,
   "id": "4cb95c89",
   "metadata": {},
   "outputs": [
    {
     "name": "stdout",
     "output_type": "stream",
     "text": [
      "env: MPLBACKEND=macosx\n"
     ]
    }
   ],
   "source": [
    "%env MPLBACKEND=macosx"
   ]
  },
  {
   "cell_type": "code",
   "execution_count": 16,
   "id": "4ea03e78-722c-4e76-b8c4-e0789785248a",
   "metadata": {},
   "outputs": [
    {
     "name": "stdout",
     "output_type": "stream",
     "text": [
      "Computing features for input music\n",
      "Slicing custom_music/9SmQOZWNyWE.wav\n",
      "Computing features for custom_music/9SmQOZWNyWE.wav\n",
      "  0%|                                                    | 0/88 [00:00<?, ?it/s]Importing jukebox and associated packages...\n",
      "Setting up the VQ-VAE...\n",
      "Loading vqvae in eval mode\n",
      "Setting up the top prior...\n",
      "Loading artist IDs from /Users/lloyd/github/Stanford-TML-EDGE/venv/lib/python3.12/site-packages/jukebox/data/ids/v2_artist_ids.txt\n",
      "Loading artist IDs from /Users/lloyd/github/Stanford-TML-EDGE/venv/lib/python3.12/site-packages/jukebox/data/ids/v2_genre_ids.txt\n",
      "Level:2, Cond downsample:None, Raw to tokens:128, Sample length:1048576\n",
      "Converting to fp16 params\n",
      "Loading prior in eval mode\n",
      "Loading the top prior weights into memory...\n",
      "/Users/lloyd/github/Stanford-TML-EDGE/venv/lib/python3.12/site-packages/jukemirlib/setup_models.py:103: FutureWarning: You are using `torch.load` with `weights_only=False` (the current default value), which uses the default pickle module implicitly. It is possible to construct malicious pickle data which will execute arbitrary code during unpickling (See https://github.com/pytorch/pytorch/blob/main/SECURITY.md#untrusted-models for more details). In a future release, the default value for `weights_only` will be flipped to `True`. This limits the functions that could be executed during unpickling. Arbitrary objects will no longer be allowed to be loaded via this mode unless they are explicitly allowlisted by the user via `torch.serialization.add_safe_globals`. We recommend you start setting `weights_only=True` for any use case where you don't have full control of the loaded file. Please open an issue on GitHub for any issues related to this experimental feature.\n",
      "  model_weights = torch.load(weights_path, map_location=\"cpu\")\n",
      "\n",
      "100%|██████████████████████████████████████| 872/872 [00:00<00:00, 40444.91it/s]\u001b[A\n",
      "\n",
      "100%|█████████████████████████████████████| 669/669 [00:00<00:00, 120776.02it/s]\u001b[A\n",
      "100%|███████████████████████████████████████████| 88/88 [03:55<00:00,  2.68s/it]\n",
      "Using device: mps\n",
      "/Users/lloyd/github/Stanford-TML-EDGE/EDGE.py:68: FutureWarning: You are using `torch.load` with `weights_only=False` (the current default value), which uses the default pickle module implicitly. It is possible to construct malicious pickle data which will execute arbitrary code during unpickling (See https://github.com/pytorch/pytorch/blob/main/SECURITY.md#untrusted-models for more details). In a future release, the default value for `weights_only` will be flipped to `True`. This limits the functions that could be executed during unpickling. Arbitrary objects will no longer be allowed to be loaded via this mode unless they are explicitly allowlisted by the user via `torch.serialization.add_safe_globals`. We recommend you start setting `weights_only=True` for any use case where you don't have full control of the loaded file. Please open an issue on GitHub for any issues related to this experimental feature.\n",
      "  checkpoint = torch.load(\n",
      "Error loading checkpoint: invalid load key, '<'.\n",
      "Checkpoint path: checkpoint.pt\n",
      "Initializing without checkpoint.\n",
      "Model has 49464471 parameters\n",
      "Model initialized without loading a checkpoint.\n",
      "Normalizer after initialization: None\n",
      "Generating dances\n",
      "Normalizer at the start of render_sample: None\n",
      "Warning: Normalizer is not set. Rendering sample without normalization.\n",
      "sampling loop time step: 100%|██████████████████| 50/50 [00:07<00:00,  6.99it/s]\n",
      "Error in render_sample: 'NoneType' object has no attribute 'unnormalize'\n",
      "Shape: (11, 150, 151), Cond shape: torch.Size([11, 150, 4800]), Normalizer: None\n",
      "Error generating dance for sample 0: 'NoneType' object has no attribute 'unnormalize'\n",
      "Done\n"
     ]
    }
   ],
   "source": [
    "!python test.py --music_dir \"{output_folder}\"/ --save_motions --motion_save_dir \"{motion_folder}\" --cache_features and --use_cached_features"
   ]
  },
  {
   "cell_type": "markdown",
   "id": "94972628-44d8-4c71-a681-8025fdb0b630",
   "metadata": {},
   "source": [
    "## 3. (Optional) Generate 3D renders with Blender\n",
    "Turn the stick figure videos into 3D motions by converting the pickle files into FBX files, which can be imported into Blender. The FBX files will be outputted to `fbx_folder`."
   ]
  },
  {
   "cell_type": "code",
   "execution_count": 7,
   "id": "7e7de01d-07e9-45d5-9574-ae095a9d1275",
   "metadata": {},
   "outputs": [
    {
     "name": "stdout",
     "output_type": "stream",
     "text": [
      "Error: module FbxCommon failed to import.\n",
      "\n",
      "Copy the files located in the compatible sub-folder lib/python<version> into your python interpreter site-packages folder.\n",
      "For example: cp ../../lib/Python37_x64/* /Library/Frameworks/Python.framework/Versions/3.7/lib/python3.7/site-packages\n",
      "Traceback (most recent call last):\n",
      "  File \"/Users/lloyd/github/Stanford-TML-EDGE/SMPL-to-FBX/Convert.py\", line 18, in <module>\n",
      "    from FbxReadWriter import FbxReadWrite\n",
      "  File \"/Users/lloyd/github/Stanford-TML-EDGE/SMPL-to-FBX/FbxReadWriter.py\", line 32, in <module>\n",
      "    class FbxReadWrite(object):\n",
      "  File \"/Users/lloyd/github/Stanford-TML-EDGE/SMPL-to-FBX/FbxReadWriter.py\", line 45, in FbxReadWrite\n",
      "    def _write_curve(self, lCurve: FbxAnimCurve, data: np.ndarray):\n",
      "                                   ^^^^^^^^^^^^\n",
      "NameError: name 'FbxAnimCurve' is not defined\n"
     ]
    }
   ],
   "source": [
    "!python SMPL-to-FBX/Convert.py --input_dir \"{motion_folder}\" --output_dir \"{fbx_folder}\""
   ]
  }
 ],
 "metadata": {
  "kernelspec": {
   "display_name": "Python 3 (ipykernel)",
   "language": "python",
   "name": "python3"
  },
  "language_info": {
   "codemirror_mode": {
    "name": "ipython",
    "version": 3
   },
   "file_extension": ".py",
   "mimetype": "text/x-python",
   "name": "python",
   "nbconvert_exporter": "python",
   "pygments_lexer": "ipython3",
   "version": "3.12.6"
  }
 },
 "nbformat": 4,
 "nbformat_minor": 5
}
